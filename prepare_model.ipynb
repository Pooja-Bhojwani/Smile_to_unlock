{
 "cells": [
  {
   "cell_type": "code",
   "execution_count": 7,
   "metadata": {},
   "outputs": [
    {
     "name": "stdout",
     "output_type": "stream",
     "text": [
      "size of training set is: 266 images\n",
      "predicting classification set\n",
      "got 75.0 percent correct!\n"
     ]
    }
   ],
   "source": [
    "\"\"\"\n",
    "This file contains logic responsible for teaching model on a processed dataset. It prints it's accuracy.\n",
    "Based on Paul van Gent's code from blog post: http://www.paulvangent.com/2016/04/01/emotion-recognition-with-python-opencv-and-a-face-dataset/\n",
    "\"\"\"\n",
    "import glob\n",
    "import random\n",
    "import numpy as np\n",
    "import cv2\n",
    "\n",
    "from image_commons import load_image\n",
    "\n",
    "if cv2.__version__ != '3.1.0':\n",
    "    fishface = cv2.createFisherFaceRecognizer()\n",
    "else:\n",
    "    fishface = cv2.face.createFisherFaceRecognizer()\n",
    "training_set_size = 0.95\n",
    "\n",
    "\n",
    "def get_files(emotion):\n",
    "    \"\"\"\n",
    "    gets paths to all images of given emotion and splits them into two sets: trainging and test\n",
    "    :param emotion: name of emotion to find images for\n",
    "    \"\"\"\n",
    "    files = glob.glob(\"dataset/%s/*\" % emotion)\n",
    "    random.shuffle(files)\n",
    "    training = files[:int(len(files) * training_set_size)]\n",
    "    prediction = files[-int(len(files) * (1 - training_set_size)):]\n",
    "    return training, prediction\n",
    "\n",
    "\n",
    "def make_sets():\n",
    "    \"\"\"\n",
    "    method used to create datasets for all emotions. It loads both images and its labels to memory into training and test labels\n",
    "    \"\"\"\n",
    "    training_data = []\n",
    "    training_labels = []\n",
    "    prediction_data = []\n",
    "    prediction_labels = []\n",
    "    for emotion in emotions:\n",
    "        training, prediction = get_files(emotion)\n",
    "\n",
    "        for item in training:\n",
    "            training_data.append(load_image(item))\n",
    "            training_labels.append(emotions.index(emotion))\n",
    "\n",
    "        for item in prediction:\n",
    "            prediction_data.append(load_image(item))\n",
    "            prediction_labels.append(emotions.index(emotion))\n",
    "\n",
    "    return training_data, training_labels, prediction_data, prediction_labels\n",
    "\n",
    "\n",
    "def run_recognizer():\n",
    "    \"\"\"\n",
    "    method is creating datasets using make_sets method, then it trains a model and tet with a test set. It returns correct guesses to test data count ratio\n",
    "    \"\"\"\n",
    "    training_data, training_labels, prediction_data, prediction_labels = make_sets()\n",
    "\n",
    "    print(\"size of training set is:\", len(training_labels), \"images\")\n",
    "    fishface.train(training_data, np.asarray(training_labels))\n",
    "\n",
    "    print(\"predicting classification set\")\n",
    "    cnt = 0\n",
    "    correct = 0\n",
    "    incorrect = 0\n",
    "#     print(type(prediction_data))\n",
    "    for image in prediction_data:\n",
    "#         print(image)\n",
    "        pred = fishface.predict(image)\n",
    "        if pred == prediction_labels[cnt]:\n",
    "            correct += 1\n",
    "            cnt += 1\n",
    "        else:\n",
    "            incorrect += 1\n",
    "            cnt += 1\n",
    "    return ((100*correct)/(correct + incorrect))\n",
    "\n",
    "\n",
    "if __name__ == '__main__':\n",
    "    emotions = [\"neutral\", \"anger\", \"disgust\", \"happy\", \"sadness\", \"surprise\"]\n",
    "\n",
    "    for i in range(0, 1):\n",
    "        correct = run_recognizer()\n",
    "        print(\"got\", correct, \"percent correct!\")\n",
    "\n",
    "    fishface.save('models/emotion_detection_model.xml')"
   ]
  },
  {
   "cell_type": "code",
   "execution_count": null,
   "metadata": {
    "collapsed": true
   },
   "outputs": [],
   "source": []
  },
  {
   "cell_type": "code",
   "execution_count": null,
   "metadata": {
    "collapsed": true
   },
   "outputs": [],
   "source": []
  }
 ],
 "metadata": {
  "kernelspec": {
   "display_name": "Python 3",
   "language": "python",
   "name": "python3"
  },
  "language_info": {
   "codemirror_mode": {
    "name": "ipython",
    "version": 3
   },
   "file_extension": ".py",
   "mimetype": "text/x-python",
   "name": "python",
   "nbconvert_exporter": "python",
   "pygments_lexer": "ipython3",
   "version": "3.5.3"
  }
 },
 "nbformat": 4,
 "nbformat_minor": 2
}
